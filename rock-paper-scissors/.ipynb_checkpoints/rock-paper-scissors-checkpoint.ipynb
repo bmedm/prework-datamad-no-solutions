{
 "cells": [
  {
   "cell_type": "markdown",
   "metadata": {},
   "source": [
    "<img src=\"https://bit.ly/2VnXWr2\" width=\"100\" align=\"left\">"
   ]
  },
  {
   "cell_type": "markdown",
   "metadata": {},
   "source": [
    "# Rock, Paper & Scissors\n",
    "\n",
    "Let's play the famous game against our computer. You can check the rules [here](https://en.wikipedia.org/wiki/Rock%E2%80%93paper%E2%80%93scissors). \n",
    "\n",
    "## Task\n",
    "Create a program that imitates the playability of the well known game of rock, paper, scissors. Follow the guidelines provided.\n",
    "\n",
    "## Tools\n",
    "1. Loop: **for/while**\n",
    "2. Functions: **input(), print()...**\n",
    "3. Conditional statements: **if, elif, else**\n",
    "4. Definition of functions. Modular programming\n",
    "5. Import modules\n",
    "\n",
    "**To solve this challenge, the use of functions is recommended.**\n",
    "\n",
    "#### 1. Import the choice function of the random module."
   ]
  },
  {
   "cell_type": "code",
   "execution_count": null,
   "metadata": {},
   "outputs": [],
   "source": [
    "import random"
   ]
  },
  {
   "cell_type": "markdown",
   "metadata": {},
   "source": [
    "#### 2. Create a list that includes the 3 possible gesture options of the game: 'rock', 'paper' or 'scissors'. Store the list in a variable called `gestures`."
   ]
  },
  {
   "cell_type": "code",
   "execution_count": null,
   "metadata": {},
   "outputs": [],
   "source": [
    "gestures=[\"Rock\", \"Paper\",\"Scissors\"]"
   ]
  },
  {
   "cell_type": "markdown",
   "metadata": {},
   "source": [
    "#### 3. Create a variable called `n_rounds` to store the maximum number of rounds to play in a game. \n",
    "Remember that the number of rounds must be odd: 1, 3, 5, ..."
   ]
  },
  {
   "cell_type": "code",
   "execution_count": null,
   "metadata": {},
   "outputs": [],
   "source": [
    "rondas=input(\"¿Cuántas rondas quieres jugar?: (debería ser un número impar)\")\n",
    "n_rounds=int(rondas)\n",
    "while n_rounds %2==0 or n_rounds<10:\n",
    "    print(\"Mejor que sea impar y menor de 10 rondas. Intentalo de nuevo\")\n",
    "    n_rounds=int(rondas)\n",
    "print(\"De acuerdo, ¡juguemos!\")"
   ]
  },
  {
   "cell_type": "markdown",
   "metadata": {},
   "source": [
    "#### 4. Create a variable called `rounds_to_win` to store the number of rounds that a player must win to win the game.\n",
    "**Hint**: the value stored in `rounds_to_win` depends on the value of `n_rounds`. "
   ]
  },
  {
   "cell_type": "code",
   "execution_count": null,
   "metadata": {},
   "outputs": [],
   "source": [
    "import math\n",
    "round_to_win=math.ceil(n_rounds/2)"
   ]
  },
  {
   "cell_type": "markdown",
   "metadata": {},
   "source": [
    "#### 5. Create two variables to store the number of rounds that the computer and the player have won. Call these variables `cpu_score` and `player_score`."
   ]
  },
  {
   "cell_type": "code",
   "execution_count": null,
   "metadata": {},
   "outputs": [],
   "source": [
    "cpu_score=0\n",
    "player_score=0"
   ]
  },
  {
   "cell_type": "markdown",
   "metadata": {},
   "source": [
    "#### 6. Define a function that randomly returns one of the 3 gesture options.\n",
    "You will use this function to simulate the gesture choice of the computer. "
   ]
  },
  {
   "cell_type": "code",
   "execution_count": null,
   "metadata": {},
   "outputs": [],
   "source": [
    "def options(x):\n",
    "    result_cpu=0\n",
    "    result_cpu=random.choice(gestures)\n",
    "    return result_cpu"
   ]
  },
  {
   "cell_type": "markdown",
   "metadata": {},
   "source": [
    "#### 7. Define a function that asks the player which is the gesture he or she wants to show: 'rock', 'paper' or 'scissors'.\n",
    "The player should only be allowed to choose one of the 3 gesture options. If the player's choice is not rock, paper or scissors, keep asking until it is."
   ]
  },
  {
   "cell_type": "code",
   "execution_count": null,
   "metadata": {},
   "outputs": [],
   "source": [
    "def playerChoose(y):\n",
    "    playerInput=0\n",
    "    if playerInput not in gestures:\n",
    "        playerInput=str(input(\"rock,paper or scissors?: \"))\n",
    "    else: \n",
    "        print(\"Comenzamos\")\n",
    "    return playerInput"
   ]
  },
  {
   "cell_type": "markdown",
   "metadata": {},
   "source": [
    "#### 8. Define a function that checks who won a round. \n",
    "The function should return 0 if there is a tie, 1 if the computer wins and 2 if the player wins."
   ]
  },
  {
   "cell_type": "code",
   "execution_count": null,
   "metadata": {},
   "outputs": [],
   "source": [
    "combatx={\"rock\":[\"scissors\"],\"paper\":[\"rock\"],\"scissors\":[\"paper\"]}\n",
    "def combat(n):\n",
    "    outcome=2\n",
    "    if playerInput==result_cpu:\n",
    "        outcome=0\n",
    "    elif playerInput in combatx[result_cpu]:\n",
    "        outcome=1\n",
    "    return outcome"
   ]
  },
  {
   "cell_type": "markdown",
   "metadata": {},
   "source": [
    "#### 9. Define a function that prints the choice of the computer, the choice of the player and a message that announces who won the current round. \n",
    "You should also use this function to update the variables that count the number of rounds that the computer and the player have won. The score of the winner increases by one point. If there is a tie, the score does not increase."
   ]
  },
  {
   "cell_type": "code",
   "execution_count": null,
   "metadata": {},
   "outputs": [],
   "source": [
    "def state(k):\n",
    "    result_total={0:\"Empate\",1:\"Ordenador gana\", 2: \"Jugador gana\"}\n",
    "    print(\"Has elegido\", playerInput)\n",
    "    print(\"El ordenador ha elegido\", result_cpu)\n",
    "    print(result_total[k])\n",
    "    return\n",
    "          "
   ]
  },
  {
   "cell_type": "markdown",
   "metadata": {},
   "source": [
    "#### 10. Now it's time to code the execution of the game using the functions and variables you defined above. \n",
    "\n",
    "First, create a loop structure that repeats while no player reaches the minimum score necessary to win and the number of rounds is less than the maximum number of rounds to play in a game.  \n",
    "\n",
    "Inside the loop, use the functions and variables above to create the execution of a round: ask for the player's choice, generate the random choice of the computer, show the round results, update the scores, etc. "
   ]
  },
  {
   "cell_type": "code",
   "execution_count": null,
   "metadata": {},
   "outputs": [],
   "source": [
    "rounds_done=0\n",
    "while rounds_done< n_round and cpu_score<round_to_win and player_score<round_to_win:\n",
    "    result_total={0:\"Empate\",1:\"Ordenador gana\", 2: \"Jugador gana\"}\n",
    "    playerInput=playerChoose(gestures)\n",
    "    result_cpu= options(gestures)\n",
    "    outcome= combat(combatx)\n",
    "    state(outcome)\n",
    "    rounds_done+=1\n",
    "    if outcome==1:\n",
    "        cpu_score+=1\n",
    "    elif outcome==2:\n",
    "        player_score+=1"
   ]
  },
  {
   "cell_type": "markdown",
   "metadata": {},
   "source": [
    "#### 11. Print the winner of the game based on who won more rounds.\n",
    "Remember that the game might be tied. "
   ]
  },
  {
   "cell_type": "code",
   "execution_count": null,
   "metadata": {},
   "outputs": [],
   "source": [
    "if player_score>=cpu_score:\n",
    "    print(\"Has ganado\")\n",
    "elif cpu_score>=player_score:\n",
    "    print(\"El ordenador ha ganado\")\n",
    "else:\n",
    "    print(\"Tie\")"
   ]
  },
  {
   "cell_type": "markdown",
   "metadata": {},
   "source": [
    "# Bonus: Rock, Paper, Scissors, Lizard & Spock\n",
    "![](images/rpsls.jpg)\n",
    "\n",
    "In this challenge, you need to improve the previous game by adding two new options. To know more about the rules of the improved version of rock, paper, scissors, check this [link](http://www.samkass.com/theories/RPSSL.html). \n",
    "\n",
    "In addition, you will also need to improve how the game interacts with the player: the number of rounds to play, which must be an odd number, will be requested to the user until a valid number is entered. Define a new function to make that request.\n",
    "\n",
    "**Hint**: Try to reuse the code that you already coded in the previous challenge. If your code is efficient, this bonus will only consist of simple modifications to the original game."
   ]
  },
  {
   "cell_type": "code",
   "execution_count": null,
   "metadata": {},
   "outputs": [],
   "source": [
    "gestures_bonus=[\"rock\",\"paper\",\"scissors\",\"lizard\",\"spock\"]\n",
    "combatx_bonus={\"rock\":[\"lizard\",\"scissors\"],\"lizard\":[\"spock\",\"paper\"],\"spock\":[\"rock\",\"scissors\"],\"paper\":[\"spock\",\"rock\"],\"scissors\":[\"lizard\",\"paper\"]}\n",
    "player_score=0\n",
    "cpu_score=0\n",
    "rounds_done=0\n",
    "while rounds_done< n_round and cpu_score<round_to_win and player_score<round_to_win:\n",
    "    result_total={0:\"Empate\",1:\"Ordenador gana\", 2: \"Jugador gana\"}\n",
    "    playerInput=playerChoose(gestures_bonus)\n",
    "    result_cpu= options(gestures_bonus)\n",
    "    outcome= combat(combatx_bonus)\n",
    "    state(outcome)\n",
    "    rounds_done+=1\n",
    "    if outcome==1:\n",
    "        cpu_score+=1\n",
    "    elif outcome==2:\n",
    "        player_score+=1\n",
    "if player_score>=cpu_score:\n",
    "    print(\"Has ganado\")\n",
    "elif cpu_score>=player_score:\n",
    "    print(\"El ordenador ha ganado\")\n",
    "else:\n",
    "    print(\"Tie\")"
   ]
  }
 ],
 "metadata": {
  "kernelspec": {
   "display_name": "Python 3",
   "language": "python",
   "name": "python3"
  },
  "language_info": {
   "codemirror_mode": {
    "name": "ipython",
    "version": 3
   },
   "file_extension": ".py",
   "mimetype": "text/x-python",
   "name": "python",
   "nbconvert_exporter": "python",
   "pygments_lexer": "ipython3",
   "version": "3.7.6"
  }
 },
 "nbformat": 4,
 "nbformat_minor": 2
}
